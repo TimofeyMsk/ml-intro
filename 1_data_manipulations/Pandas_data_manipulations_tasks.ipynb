{
 "cells": [
  {
   "cell_type": "markdown",
   "id": "6d6010da",
   "metadata": {},
   "source": [
    "# How to complete this assignment\n",
    "First, download [this Kaggle dataset](https://www.kaggle.com/hugomathien/soccer) and extract *sqlite* database. You may need to register at https://www.kaggle.com/ beforehand. Then complete 15 graded tasks below, the score is given in brackets. Finally submit the resulting `.ipynb` file to rs-app Auto-test.\n",
    "\n",
    "- Do not delete or rename the variables given before the inscription `#your code here`, they are needed for the correct verification.\n",
    "- Do not change the code in the last Notebook cell, it is required for the server check.\n",
    "- Your Notebook must run completely without errors to be graded! Please check everything before submission by going *Cell -> Run All*"
   ]
  },
  {
   "cell_type": "markdown",
   "id": "0dbd5f9a",
   "metadata": {},
   "source": [
    "## Some important notes\n",
    "- If you need to **calculate the number of \"something\"** that means we expect you to assign an Integer to the given variable\n",
    "- If you need to **make a list of \"something\"** we expect you to assign a Python list with appropriate values to the given variable\n",
    "- If you need to find a **specifiс player, day of the week, team, etc.** we expect you to assign a String with the full name of the entity to the given variable (`player_name`, day of week full name, `team_name`, etc.)"
   ]
  },
  {
   "cell_type": "code",
   "execution_count": 1,
   "id": "f52b1bac",
   "metadata": {},
   "outputs": [],
   "source": [
    "import sqlite3\n",
    "from urllib.response import addbase\n",
    "\n",
    "import numpy as np\n",
    "import pandas as pd\n",
    "import os\n",
    "\n",
    "pd.set_option('display.max_column', None)\n",
    "pd.set_option('display.max_rows',200)"
   ]
  },
  {
   "cell_type": "code",
   "execution_count": 2,
   "id": "8ebe6afd",
   "metadata": {},
   "outputs": [
    {
     "data": {
      "text/plain": "    type               name           tbl_name  rootpage  \\\n0  table    sqlite_sequence    sqlite_sequence         4   \n1  table  Player_Attributes  Player_Attributes        11   \n2  table             Player             Player        14   \n3  table              Match              Match        18   \n4  table             League             League        24   \n5  table            Country            Country        26   \n6  table               Team               Team        29   \n7  table    Team_Attributes    Team_Attributes         2   \n\n                                                 sql  \n0             CREATE TABLE sqlite_sequence(name,seq)  \n1  CREATE TABLE \"Player_Attributes\" (\\n\\t`id`\\tIN...  \n2  CREATE TABLE `Player` (\\n\\t`id`\\tINTEGER PRIMA...  \n3  CREATE TABLE `Match` (\\n\\t`id`\\tINTEGER PRIMAR...  \n4  CREATE TABLE `League` (\\n\\t`id`\\tINTEGER PRIMA...  \n5  CREATE TABLE `Country` (\\n\\t`id`\\tINTEGER PRIM...  \n6  CREATE TABLE \"Team\" (\\n\\t`id`\\tINTEGER PRIMARY...  \n7  CREATE TABLE `Team_Attributes` (\\n\\t`id`\\tINTE...  ",
      "text/html": "<div>\n<style scoped>\n    .dataframe tbody tr th:only-of-type {\n        vertical-align: middle;\n    }\n\n    .dataframe tbody tr th {\n        vertical-align: top;\n    }\n\n    .dataframe thead th {\n        text-align: right;\n    }\n</style>\n<table border=\"1\" class=\"dataframe\">\n  <thead>\n    <tr style=\"text-align: right;\">\n      <th></th>\n      <th>type</th>\n      <th>name</th>\n      <th>tbl_name</th>\n      <th>rootpage</th>\n      <th>sql</th>\n    </tr>\n  </thead>\n  <tbody>\n    <tr>\n      <th>0</th>\n      <td>table</td>\n      <td>sqlite_sequence</td>\n      <td>sqlite_sequence</td>\n      <td>4</td>\n      <td>CREATE TABLE sqlite_sequence(name,seq)</td>\n    </tr>\n    <tr>\n      <th>1</th>\n      <td>table</td>\n      <td>Player_Attributes</td>\n      <td>Player_Attributes</td>\n      <td>11</td>\n      <td>CREATE TABLE \"Player_Attributes\" (\\n\\t`id`\\tIN...</td>\n    </tr>\n    <tr>\n      <th>2</th>\n      <td>table</td>\n      <td>Player</td>\n      <td>Player</td>\n      <td>14</td>\n      <td>CREATE TABLE `Player` (\\n\\t`id`\\tINTEGER PRIMA...</td>\n    </tr>\n    <tr>\n      <th>3</th>\n      <td>table</td>\n      <td>Match</td>\n      <td>Match</td>\n      <td>18</td>\n      <td>CREATE TABLE `Match` (\\n\\t`id`\\tINTEGER PRIMAR...</td>\n    </tr>\n    <tr>\n      <th>4</th>\n      <td>table</td>\n      <td>League</td>\n      <td>League</td>\n      <td>24</td>\n      <td>CREATE TABLE `League` (\\n\\t`id`\\tINTEGER PRIMA...</td>\n    </tr>\n    <tr>\n      <th>5</th>\n      <td>table</td>\n      <td>Country</td>\n      <td>Country</td>\n      <td>26</td>\n      <td>CREATE TABLE `Country` (\\n\\t`id`\\tINTEGER PRIM...</td>\n    </tr>\n    <tr>\n      <th>6</th>\n      <td>table</td>\n      <td>Team</td>\n      <td>Team</td>\n      <td>29</td>\n      <td>CREATE TABLE \"Team\" (\\n\\t`id`\\tINTEGER PRIMARY...</td>\n    </tr>\n    <tr>\n      <th>7</th>\n      <td>table</td>\n      <td>Team_Attributes</td>\n      <td>Team_Attributes</td>\n      <td>2</td>\n      <td>CREATE TABLE `Team_Attributes` (\\n\\t`id`\\tINTE...</td>\n    </tr>\n  </tbody>\n</table>\n</div>"
     },
     "execution_count": 2,
     "metadata": {},
     "output_type": "execute_result"
    }
   ],
   "source": [
    "# Leave that code unchanged, it is required for the server check!\n",
    "db = sqlite3.connect(os.environ.get(\"DB_PATH\") or 'database.sqlite')\n",
    "table_list = pd.read_sql(\"select * from sqlite_master where type = 'table';\", db)\n",
    "table_list"
   ]
  },
  {
   "cell_type": "code",
   "execution_count": 3,
   "id": "9860d0d0",
   "metadata": {},
   "outputs": [],
   "source": [
    "# You may load the data from SQL table directly to the Pandas dataframe as\n",
    "table_list = pd.read_sql(\"select * from sqlite_master where type = 'table';\", db)\n",
    "player_data = pd.read_sql(\"SELECT * FROM Player;\", db)\n",
    "leagues =  pd.read_sql(\"SELECT * FROM League;\", db)\n",
    "leagues = leagues.set_index('id')\n",
    "teams =  pd.read_sql(\"SELECT * FROM Team;\", db)\n",
    "matches =  pd.read_sql(\"SELECT * FROM Match;\", db)\n",
    "matches = matches.join(leagues['name'], on='league_id').rename(columns={'name':'league_name'})\n",
    "matches = matches.merge(right=teams[['team_api_id','team_long_name']].rename(columns={'team_long_name': 'home_team_name'}),\n",
    "                          how='left',left_on='home_team_api_id', right_on = 'team_api_id', sort=False)\n",
    "matches = matches.merge(right=teams[['team_api_id','team_long_name']].rename(columns={'team_long_name': 'away_team_name'}),\n",
    "                            how='left',left_on='away_team_api_id', right_on = 'team_api_id', sort=False)\n",
    "matches.drop(columns=['team_api_id_x', 'team_api_id_y'], inplace=True)\n",
    "players_attributes = pd.read_sql(\"SELECT * FROM Player_Attributes;\", db)\n",
    "foot = {'right': 1, 'left': 0, 1: 1, 0: 0}\n",
    "players_attributes.loc[:,'preferred_foot'] = players_attributes['preferred_foot'].apply(lambda x: foot[x] if x in foot else np.nan)"
   ]
  },
  {
   "cell_type": "code",
   "execution_count": 4,
   "outputs": [],
   "source": [
    "levels_dict = {'low': 1, 'medium': 2, 'high': 3, 1: 1, 2: 2, 3: 3}\n",
    "players_attributes.loc[:, 'attacking_work_rate'] = \\\n",
    "    players_attributes['attacking_work_rate'].apply(lambda x: levels_dict[x] if x in levels_dict else np.nan)\n",
    "players_attributes.loc[:, 'defensive_work_rate'] = \\\n",
    "    players_attributes['defensive_work_rate'].apply(lambda x: levels_dict[x] if x in levels_dict else np.nan)"
   ],
   "metadata": {
    "collapsed": false,
    "pycharm": {
     "name": "#%%\n"
    }
   }
  },
  {
   "cell_type": "markdown",
   "id": "f8b23f3a",
   "metadata": {},
   "source": [
    "**Task 1 (0.25 point).** Calculate the number of players with a height between 180 and 190 inclusive"
   ]
  },
  {
   "cell_type": "code",
   "execution_count": 5,
   "outputs": [],
   "source": [
    "players_180_190 = (player_data[player_data['height'].between(180, 190)]).shape[0] # Your code here\n",
    "# (player_data[player_data['height'].between(180, 190)])['height'].describe()"
   ],
   "metadata": {
    "collapsed": false,
    "pycharm": {
     "name": "#%%\n"
    }
   }
  },
  {
   "cell_type": "code",
   "execution_count": 6,
   "outputs": [],
   "source": [
    "assert(isinstance(players_180_190, int))"
   ],
   "metadata": {
    "collapsed": false,
    "pycharm": {
     "name": "#%%\n"
    }
   }
  },
  {
   "cell_type": "markdown",
   "source": [
    "**Task 2 (0.25 point).** Calculate the number of players born in 1980. <br>\n",
    "**Hint:** you may want to cast your 'birthday' column to DateTime type by [pandas.to_datetime](https://pandas.pydata.org/docs/reference/api/pandas.to_datetime.html)"
   ],
   "metadata": {
    "collapsed": false,
    "pycharm": {
     "name": "#%% md\n"
    }
   }
  },
  {
   "cell_type": "code",
   "source": [
    "player_data['year_of_birth'] = pd.to_datetime(player_data.birthday).apply(lambda x: x.year)\n",
    "player_data['month_of_birth'] = pd.to_datetime(player_data.birthday).apply(lambda x: x.month)\n",
    "player_data['dow_of_birth'] = pd.to_datetime(player_data.birthday).apply(lambda x: x.weekday())\n",
    "players_1980 = player_data[(player_data.year_of_birth == 1980)].shape[0]"
   ],
   "metadata": {
    "collapsed": false,
    "pycharm": {
     "name": "#%%\n"
    }
   },
   "execution_count": 7,
   "outputs": []
  },
  {
   "cell_type": "code",
   "execution_count": 8,
   "outputs": [],
   "source": [
    "assert(isinstance(players_1980, int))"
   ],
   "metadata": {
    "collapsed": false,
    "pycharm": {
     "name": "#%%\n"
    }
   }
  },
  {
   "cell_type": "markdown",
   "source": [
    "**Task 3 (0.25 point).** Make a list of the top 10 players with the highest weight sorted in descending order. If there are several players with the same weight put them in the lexicographic order by name."
   ],
   "metadata": {
    "collapsed": false,
    "pycharm": {
     "name": "#%% md\n"
    }
   }
  },
  {
   "cell_type": "code",
   "source": [
    "highest_players = player_data.sort_values(by=['weight', 'player_name'], ascending=[False, True]) \\\n",
    "    .head(10)['player_name'].tolist()"
   ],
   "metadata": {
    "collapsed": false,
    "pycharm": {
     "name": "#%%\n"
    }
   },
   "execution_count": 9,
   "outputs": []
  },
  {
   "cell_type": "code",
   "execution_count": 10,
   "outputs": [],
   "source": [
    "assert(len(highest_players) == 10)\n",
    "assert(isinstance(highest_players, list))\n",
    "for i in range(10):\n",
    "    assert(isinstance(highest_players[i], str))"
   ],
   "metadata": {
    "collapsed": false,
    "pycharm": {
     "name": "#%%\n"
    }
   }
  },
  {
   "cell_type": "markdown",
   "source": [
    "**Task 4 (0.5 point).** Make a list of tuples containing years along with the number of players born in that year from 1980 up to 1990. <br>\n",
    "**Structure example**: [(1980, 123), (1981, 140) ..., (1990, 83)] -> There were born 123 players in 1980, there were born 140 players in 1981 and etc."
   ],
   "metadata": {
    "collapsed": false,
    "pycharm": {
     "name": "#%% md\n"
    }
   }
  },
  {
   "cell_type": "code",
   "source": [
    "ye = pd.value_counts(player_data[player_data['year_of_birth'].between(1980, 1990)].year_of_birth)\n",
    "ye = ye.sort_index()\n",
    "years_born_players = list(zip(ye.index.tolist(), ye.tolist()))\n",
    "# [1988, 1989, 1987, 1986, 1990, 1984, 1985, 1983, 1982, 1981, 1980]"
   ],
   "metadata": {
    "collapsed": false,
    "pycharm": {
     "name": "#%%\n"
    }
   },
   "execution_count": 11,
   "outputs": []
  },
  {
   "cell_type": "code",
   "execution_count": 12,
   "id": "64cbf754",
   "metadata": {},
   "outputs": [],
   "source": [
    "assert(len(years_born_players) == 11)\n",
    "assert(isinstance(years_born_players, list))\n",
    "for i in range(10):\n",
    "    assert(isinstance(years_born_players[i], tuple))\n",
    "    assert(isinstance(years_born_players[i][0], int))\n",
    "    assert(isinstance(years_born_players[i][1], int))"
   ]
  },
  {
   "cell_type": "markdown",
   "id": "33cbd931",
   "metadata": {},
   "source": [
    "**Task 5 (0.5 point).** Calculate the mean and the standard deviation of the players' **height** with the name **Adriano**. <br>\n",
    "**Note:** Name is represented by the first part of `player_name`."
   ]
  },
  {
   "cell_type": "code",
   "execution_count": 13,
   "outputs": [
    {
     "data": {
      "text/plain": "(182.11800000000002, 5.361479480723788)"
     },
     "execution_count": 13,
     "metadata": {},
     "output_type": "execute_result"
    }
   ],
   "source": [
    "pld = player_data\n",
    "pld['name_separ'] = pld['player_name'].apply(lambda x: x.split(' ')[0])\n",
    "ad_height = pld[pld['name_separ'] == 'Adriano']['height']\n",
    "adriano_mean, adriano_std = ad_height.mean(), ad_height.std()# Your code here\n",
    "adriano_mean, adriano_std"
   ],
   "metadata": {
    "collapsed": false,
    "pycharm": {
     "name": "#%%\n"
    }
   }
  },
  {
   "cell_type": "code",
   "execution_count": 14,
   "id": "f508c49f",
   "metadata": {},
   "outputs": [],
   "source": [
    "assert(isinstance(adriano_mean, float))\n",
    "assert(isinstance(adriano_std, float))"
   ]
  },
  {
   "cell_type": "markdown",
   "id": "8a361dfd",
   "metadata": {},
   "source": [
    "**Task 6 (0.75 point).** How many players were born on each day of the week? Find the day of the week with the minimum number of players born."
   ]
  },
  {
   "cell_type": "code",
   "execution_count": 15,
   "outputs": [
    {
     "name": "stdout",
     "output_type": "stream",
     "text": [
      "Sunday       1362\n",
      "Saturday     1463\n",
      "Wednesday    1607\n",
      "Monday       1643\n",
      "Thursday     1648\n",
      "Tuesday      1652\n",
      "Friday       1685\n",
      "Name: dow_of_bd_string, dtype: int64\n"
     ]
    }
   ],
   "source": [
    "dow = dict(zip(range(7), ['Monday', 'Tuesday', 'Wednesday', 'Thursday', 'Friday', 'Saturday', 'Sunday']) )\n",
    "pld['dow_of_bd_string'] = pld['dow_of_birth'].apply(lambda x: dow[x])\n",
    "hist = pld['dow_of_bd_string'].value_counts()\n",
    "hist.sort_values(inplace=True)\n",
    "/print hist\n",
    "dow_with_min_players_born = hist.index[0]"
   ],
   "metadata": {
    "collapsed": false,
    "pycharm": {
     "name": "#%%\n"
    }
   }
  },
  {
   "cell_type": "code",
   "execution_count": 16,
   "id": "fc041623",
   "metadata": {},
   "outputs": [],
   "source": [
    "assert(isinstance(dow_with_min_players_born, str))"
   ]
  },
  {
   "cell_type": "markdown",
   "id": "dc7428be",
   "metadata": {},
   "source": [
    "**Task 7 (0.75 point).** Find a league with the most matches in total. If there are several leagues with the same amount of matches, take the first in the lexical order."
   ]
  },
  {
   "cell_type": "code",
   "execution_count": 17,
   "outputs": [],
   "source": [
    "leg_hist = matches['league_id'].value_counts()\n",
    "leg_hist = pd.concat([leg_hist, leagues['name']], axis=1)\n",
    "leg_hist.sort_values(by=['league_id', 'name'], ascending=[False, True])\n",
    "league_most_matches = leg_hist.iloc[0, leg_hist.columns.get_loc('name')]"
   ],
   "metadata": {
    "collapsed": false,
    "pycharm": {
     "name": "#%%\n"
    }
   }
  },
  {
   "cell_type": "code",
   "execution_count": 18,
   "id": "390a265b",
   "metadata": {},
   "outputs": [],
   "source": [
    "assert(isinstance(league_most_matches, str))"
   ]
  },
  {
   "cell_type": "markdown",
   "id": "97199b7d",
   "metadata": {},
   "source": [
    "**Task 8 (1.25 point).** Find a player who participated in the largest number of matches during the whole match history. Assign a `player_name` to the given variable"
   ]
  },
  {
   "cell_type": "code",
   "execution_count": 19,
   "outputs": [],
   "source": [
    "player_col_mask = matches.columns.str.match('\\w*player\\_\\d{1,2}')\n",
    "player_col_index = matches.columns[player_col_mask]\n",
    "matches[player_col_index]\n",
    "players_series = [matches[s] for s in player_col_index]\n",
    "players_participation = pd.concat(players_series, axis=0, ignore_index=True).rename('player_id')\n",
    "players_participation = players_participation.dropna()\n",
    "players_participation = players_participation.astype('int32')\n",
    "hist =  players_participation.value_counts().rename('match_count')\n",
    "players = player_data[['player_api_id', 'player_name']].set_index('player_api_id')\n",
    "hist = pd.concat([hist, players], axis=1).sort_values(by='match_count', ascending=False)\n",
    "max_matches_player = hist.iloc[0,hist.columns.get_loc('player_name')]"
   ],
   "metadata": {
    "collapsed": false,
    "pycharm": {
     "name": "#%%\n"
    }
   }
  },
  {
   "cell_type": "code",
   "execution_count": 20,
   "id": "00ec2e89",
   "metadata": {},
   "outputs": [],
   "source": [
    "assert(isinstance(max_matches_player, str))"
   ]
  },
  {
   "cell_type": "markdown",
   "id": "dbc68bfe",
   "metadata": {},
   "source": [
    "**Task 9 (1.5 point).** List top-5 tuples of most correlated **player's characteristics** in the descending order of the absolute [Pearson's coefficient](https://en.wikipedia.org/wiki/Pearson_correlation_coefficient) value.\n",
    "\n",
    "**Note 1:** Players characteristics are all the columns in `Player_Attributes` table except `[id, player_fifa_api_id, player_api_id, date, preferred_foot, attacking_work_rate, defensive_work_rate]`). <br>\n",
    "**Note 2:** Exclude duplicated pairs from the list. E.g. ('gk_handling', 'gk_reflexes') and ('gk_reflexes', 'gk_handling') are duplicates, leave just one of them in the resulting list.\n",
    "\n",
    "**Hint:** You may use [dataframe.corr()](https://pandas.pydata.org/docs/reference/api/pandas.DataFrame.corr.html) for calculating pairwise Pearson correlation."
   ]
  },
  {
   "cell_type": "code",
   "source": [
    "corr_attr: pd.DataFrame = players_attributes.loc[:,\n",
    "                                    ~players_attributes.columns.isin(\n",
    "                                        ['id', 'date', 'player_fifa_api_id', 'player_api_id', 'preferred_foot', 'attacking_work_rate', 'defensive_work_rate'])\n",
    "                                    ].corr()\n",
    "n = corr_attr.shape[0]\n",
    "for i in range(n):\n",
    "    corr_attr.iloc[i,[False]*i + [True]*(n-i)] = np.nan\n",
    "col_names = corr_attr.columns\n",
    "corr_list = pd.concat([corr_attr[x] for x in col_names], keys=col_names)\n",
    "corr_list = corr_list.loc[~corr_list.isna()].sort_values(ascending=False)\n",
    "top_correlated_features: pd.Series = corr_list.iloc[0:5]\n",
    "top_correlated_features = top_correlated_features.index.tolist()\n",
    "top_correlated_features"
   ],
   "metadata": {
    "collapsed": false,
    "pycharm": {
     "name": "#%%\n"
    }
   },
   "execution_count": 21,
   "outputs": [
    {
     "data": {
      "text/plain": "[('gk_positioning', 'gk_reflexes'),\n ('gk_handling', 'gk_reflexes'),\n ('gk_handling', 'gk_positioning'),\n ('standing_tackle', 'sliding_tackle'),\n ('marking', 'standing_tackle')]"
     },
     "execution_count": 21,
     "metadata": {},
     "output_type": "execute_result"
    }
   ]
  },
  {
   "cell_type": "code",
   "execution_count": 22,
   "id": "67acd6bf",
   "metadata": {},
   "outputs": [],
   "source": [
    "assert(len(top_correlated_features) == 5)\n",
    "assert(isinstance(top_correlated_features, list))\n",
    "for i in range(5):\n",
    "    assert(isinstance(top_correlated_features[i], tuple))\n",
    "    assert(isinstance(top_correlated_features[i][0], str))\n",
    "    assert(isinstance(top_correlated_features[i][1], str))"
   ]
  },
  {
   "cell_type": "markdown",
   "id": "7d3d8fd3",
   "metadata": {},
   "source": [
    "**Task 10 (2 points).** Find top-5 most similar players to **Neymar** whose names are given. The similarity is measured as [Euclidean distance](https://en.wikipedia.org/wiki/Euclidean_distance) between vectors of players' characteristics (described in the task above). Put their names in a vector in ascending order by Euclidean distance and sorted by `player_name` if the distance is the same<br>\n",
    "**Note 1:** There are many records for some players in the `Player_Attributes` table. You need to take the freshest data (characteristics with the most recent `date`). <br>\n",
    "**Note 2:** Use pure values of the characteristics even if you are aware of such preprocessing technics as normalization. <br>\n",
    "**Note 3:** Please avoid using any built-in methods for calculating the Euclidean distance between vectors, think about implementing your own."
   ]
  },
  {
   "cell_type": "code",
   "execution_count": 23,
   "outputs": [],
   "source": [
    "plrs_char: pd.DataFrame = players_attributes.loc[:,\n",
    "            ~players_attributes.columns.isin(\n",
    "                ['id', 'player_fifa_api_id', 'preferred_foot', 'attacking_work_rate', 'defensive_work_rate'])\n",
    "            ]\n",
    "plrs_char = plrs_char.sort_values(by=['player_api_id', 'date'], ascending=[True, False]) \\\n",
    "        .groupby('player_api_id').first()\n",
    "plrs_char = pd.concat([player_data.set_index('player_api_id')['player_name'], plrs_char], axis=1)\n",
    "plrs_char[plrs_char['player_name'].str.match('.*Neymar.*')] # pl api id 19533\n",
    "# plrs_char['eucldean_dist_toNeymar'] = plrs_char.apply\n",
    "dim_col = ~plrs_char.columns.isin(['player_name', 'date'])\n",
    "plrs_char['eucldean_dist_toNeymar'] = plrs_char.apply(\n",
    "    lambda x: np.sqrt(\n",
    "        (   (x[dim_col] - plrs_char.loc[19533, dim_col])   **2)\n",
    "                      .sum()\n",
    "                    ),\n",
    "    axis=1)"
   ],
   "metadata": {
    "collapsed": false,
    "pycharm": {
     "name": "#%%\n"
    }
   }
  },
  {
   "cell_type": "code",
   "execution_count": 24,
   "outputs": [],
   "source": [
    "neymar_similarities = plrs_char.sort_values(by=['eucldean_dist_toNeymar', 'player_name']).iloc[1:6, plrs_char.columns.get_loc('player_name')].tolist()"
   ],
   "metadata": {
    "collapsed": false,
    "pycharm": {
     "name": "#%%\n"
    }
   }
  },
  {
   "cell_type": "code",
   "execution_count": 25,
   "id": "ddb1876a",
   "metadata": {},
   "outputs": [],
   "source": [
    "assert(len(neymar_similarities) == 5)\n",
    "assert(isinstance(neymar_similarities, list))\n",
    "for i in range(5):\n",
    "    assert(isinstance(neymar_similarities[i], str))"
   ]
  },
  {
   "cell_type": "markdown",
   "id": "a3a7f878",
   "metadata": {
    "pycharm": {
     "name": "#%% md\n"
    }
   },
   "source": [
    "**Task 11 (1 point).** Calculate the number of home matches played by the **Borussia Dortmund** team in **Germany 1. Bundesliga** in season **2008/2009**"
   ]
  },
  {
   "cell_type": "code",
   "execution_count": 26,
   "outputs": [],
   "source": [
    "Borrusia_team_api_id = teams.loc[teams.team_long_name == 'Borussia Dortmund']['team_api_id'].tolist()[0]\n",
    "borussia_bundesliga_2008_2009_matches = matches.loc[ \\\n",
    "    (matches['home_team_api_id'] == Borrusia_team_api_id) & (matches['season'] == '2008/2009')] \\\n",
    "    .count()[0]\n",
    "borussia_bundesliga_2008_2009_matches = int(borussia_bundesliga_2008_2009_matches)"
   ],
   "metadata": {
    "collapsed": false,
    "pycharm": {
     "name": "#%%\n"
    }
   }
  },
  {
   "cell_type": "code",
   "execution_count": 27,
   "id": "488fdd4c",
   "metadata": {},
   "outputs": [],
   "source": [
    "assert(isinstance(borussia_bundesliga_2008_2009_matches, int))"
   ]
  },
  {
   "cell_type": "markdown",
   "id": "69dca9a5",
   "metadata": {},
   "source": [
    "**Task 12 (1 point).** Find a team having the most matches (both home and away!) in the **Germany 1. Bundesliga** in **2008/2009** season. Return number of matches."
   ]
  },
  {
   "cell_type": "code",
   "execution_count": 28,
   "outputs": [],
   "source": [
    "match_2008_2009_bundesliga = matches.loc[(matches['season'] == '2008/2009') & (matches['league_name'] == 'Germany 1. Bundesliga'),\n",
    "                          ['home_team_api_id', 'away_team_api_id']]\n",
    "match_2008_2009_bundesliga = pd.concat([match_2008_2009_bundesliga['home_team_api_id'],\n",
    "                                       match_2008_2009_bundesliga['away_team_api_id']], ignore_index=True)\n",
    "team_most_matches_bundesliga_2008_2009 = match_2008_2009_bundesliga.value_counts(sort=True, ascending=False).sort_values(ascending=False).iloc[0]\n",
    "team_most_matches_bundesliga_2008_2009 = int(team_most_matches_bundesliga_2008_2009)"
   ],
   "metadata": {
    "collapsed": false,
    "pycharm": {
     "name": "#%%\n"
    }
   }
  },
  {
   "cell_type": "code",
   "execution_count": 29,
   "id": "ef3b8fa2",
   "metadata": {},
   "outputs": [],
   "source": [
    "assert(isinstance(team_most_matches_bundesliga_2008_2009, int))"
   ]
  },
  {
   "cell_type": "markdown",
   "id": "2f3c65aa",
   "metadata": {},
   "source": [
    "**Task 13 (1 point).** Count total number of **Arsenal** matches (both home and away!) in the **2015/2016** season which they have won. <br><br>\n",
    "**Note:** Winning a game means scoring **more** goals than an opponent."
   ]
  },
  {
   "cell_type": "code",
   "execution_count": 31,
   "outputs": [
    {
     "name": "stderr",
     "output_type": "stream",
     "text": [
      "C:\\Users\\Timofey\\AppData\\Local\\Temp/ipykernel_23448/3609566587.py:2: SettingWithCopyWarning: \n",
      "A value is trying to be set on a copy of a slice from a DataFrame.\n",
      "Try using .loc[row_indexer,col_indexer] = value instead\n",
      "\n",
      "See the caveats in the documentation: https://pandas.pydata.org/pandas-docs/stable/user_guide/indexing.html#returning-a-view-versus-a-copy\n",
      "  matches_t.loc[:, 'winner'] = (matches_t['home_team_goal'] > matches_t['away_team_goal']).apply(lambda x: 'home' if x else 'away')\n",
      "C:\\Users\\Timofey\\AppData\\Local\\Temp/ipykernel_23448/3609566587.py:3: SettingWithCopyWarning: \n",
      "A value is trying to be set on a copy of a slice from a DataFrame.\n",
      "Try using .loc[row_indexer,col_indexer] = value instead\n",
      "\n",
      "See the caveats in the documentation: https://pandas.pydata.org/pandas-docs/stable/user_guide/indexing.html#returning-a-view-versus-a-copy\n",
      "  matches_t.loc[:, 'winner_name'] = matches_t.apply(lambda x: x['home_team_name'] if x['winner'] == 'home' else x['away_team_name'], axis='columns')\n"
     ]
    },
    {
     "data": {
      "text/plain": "27"
     },
     "execution_count": 31,
     "metadata": {},
     "output_type": "execute_result"
    }
   ],
   "source": [
    "matches_t = matches[matches.season=='2015/2016']\n",
    "matches_t.loc[:, 'winner'] = (matches_t['home_team_goal'] > matches_t['away_team_goal']).apply(lambda x: 'home' if x else 'away')\n",
    "matches_t.loc[:, 'winner_name'] = matches_t.apply(lambda x: x['home_team_name'] if x['winner'] == 'home' else x['away_team_name'], axis='columns')\n",
    "arsenal_wins = matches_t[matches_t['winner_name'] == 'Arsenal']\n",
    "arsenal_won_matches_2015_2016 = arsenal_wins.count().tolist()[0]\n",
    "arsenal_won_matches_2015_2016"
   ],
   "metadata": {
    "collapsed": false,
    "pycharm": {
     "name": "#%%\n"
    }
   }
  },
  {
   "cell_type": "code",
   "execution_count": 32,
   "id": "214d9689",
   "metadata": {},
   "outputs": [],
   "source": [
    "assert(isinstance(arsenal_won_matches_2015_2016, int))"
   ]
  },
  {
   "cell_type": "markdown",
   "id": "d70d5b23",
   "metadata": {},
   "source": [
    "**Task 14 (2 points).** Find a team with the highest win rate in the **2015/2016** season. Win rate means won matches / all matches. If there are several teams with the highest win rate return the first by name in lexical order"
   ]
  },
  {
   "cell_type": "code",
   "execution_count": 33,
   "outputs": [],
   "source": [
    "cnt_all_match = pd.concat([matches_t.home_team_name, matches_t.away_team_name],ignore_index=True, sort=False).value_counts().rename('cnt_all')\n",
    "cnt_win_match = matches_t.winner_name.value_counts().rename('cnt_win')\n",
    "win_rate: pd.Series = (cnt_win_match/cnt_all_match).rename('rate')\n",
    "win_rate: pd.DataFrame = win_rate.reset_index().rename(columns={'index': 'team_name'})\n",
    "win_rate.sort_values(by=['rate', 'team_name'], ascending=[False,True] ,  inplace=True)\n",
    "team_highest_winrate_2015_2016 = win_rate.iloc[0]['team_name']"
   ],
   "metadata": {
    "collapsed": false,
    "pycharm": {
     "name": "#%%\n"
    }
   }
  },
  {
   "cell_type": "code",
   "execution_count": 34,
   "id": "b4cc8e46",
   "metadata": {},
   "outputs": [],
   "source": [
    "assert(isinstance(team_highest_winrate_2015_2016, str))"
   ]
  },
  {
   "cell_type": "markdown",
   "id": "f7f3b4f5",
   "metadata": {},
   "source": [
    "**Task 15 (2 points).** Determine the team with the maximum days' gap between matches in **England Premier League 2010/2011 season**. Return number of days in that gap. <br>\n",
    "**Note**: a *gap* means the number of days between two consecutive matches of the same team."
   ]
  },
  {
   "cell_type": "code",
   "execution_count": 57,
   "outputs": [
    {
     "data": {
      "text/plain": "          date                team_name\n384 2010-08-15                  Arsenal\n110 2010-08-21                  Arsenal\n606 2010-08-28                  Arsenal\n320 2010-09-11                  Arsenal\n711 2010-09-18                  Arsenal\n..         ...                      ...\n649 2011-04-26  Wolverhampton Wanderers\n665 2011-05-01  Wolverhampton Wanderers\n296 2011-05-08  Wolverhampton Wanderers\n682 2011-05-14  Wolverhampton Wanderers\n316 2011-05-22  Wolverhampton Wanderers\n\n[760 rows x 2 columns]",
      "text/html": "<div>\n<style scoped>\n    .dataframe tbody tr th:only-of-type {\n        vertical-align: middle;\n    }\n\n    .dataframe tbody tr th {\n        vertical-align: top;\n    }\n\n    .dataframe thead th {\n        text-align: right;\n    }\n</style>\n<table border=\"1\" class=\"dataframe\">\n  <thead>\n    <tr style=\"text-align: right;\">\n      <th></th>\n      <th>date</th>\n      <th>team_name</th>\n    </tr>\n  </thead>\n  <tbody>\n    <tr>\n      <th>384</th>\n      <td>2010-08-15</td>\n      <td>Arsenal</td>\n    </tr>\n    <tr>\n      <th>110</th>\n      <td>2010-08-21</td>\n      <td>Arsenal</td>\n    </tr>\n    <tr>\n      <th>606</th>\n      <td>2010-08-28</td>\n      <td>Arsenal</td>\n    </tr>\n    <tr>\n      <th>320</th>\n      <td>2010-09-11</td>\n      <td>Arsenal</td>\n    </tr>\n    <tr>\n      <th>711</th>\n      <td>2010-09-18</td>\n      <td>Arsenal</td>\n    </tr>\n    <tr>\n      <th>...</th>\n      <td>...</td>\n      <td>...</td>\n    </tr>\n    <tr>\n      <th>649</th>\n      <td>2011-04-26</td>\n      <td>Wolverhampton Wanderers</td>\n    </tr>\n    <tr>\n      <th>665</th>\n      <td>2011-05-01</td>\n      <td>Wolverhampton Wanderers</td>\n    </tr>\n    <tr>\n      <th>296</th>\n      <td>2011-05-08</td>\n      <td>Wolverhampton Wanderers</td>\n    </tr>\n    <tr>\n      <th>682</th>\n      <td>2011-05-14</td>\n      <td>Wolverhampton Wanderers</td>\n    </tr>\n    <tr>\n      <th>316</th>\n      <td>2011-05-22</td>\n      <td>Wolverhampton Wanderers</td>\n    </tr>\n  </tbody>\n</table>\n<p>760 rows × 2 columns</p>\n</div>"
     },
     "execution_count": 57,
     "metadata": {},
     "output_type": "execute_result"
    }
   ],
   "source": [
    "mm = matches[['league_name', 'season', 'date', 'home_team_name', 'away_team_name']]\n",
    "mm: pd.DataFrame = mm.loc[(mm.league_name == 'England Premier League') & (mm.season == '2010/2011')]\n",
    "mm['date'] = pd.to_datetime(mm['date'])\n",
    "mm.drop(columns=['league_name', 'season'], inplace=True)\n",
    "vv: pd.DataFrame = pd.concat([mm[['date', 'home_team_name']].rename(columns={'home_team_name':'team_name'}),\n",
    "                mm[['date', 'away_team_name']].rename(columns={'away_team_name': 'team_name'})],\n",
    "                ignore_index=True, sort=False)"
   ],
   "metadata": {
    "collapsed": false,
    "pycharm": {
     "name": "#%%\n"
    }
   }
  },
  {
   "cell_type": "code",
   "execution_count": 65,
   "outputs": [
    {
     "data": {
      "text/plain": "          date                team_name    diff max_diff\n384 2010-08-15                  Arsenal     NaT      NaT\n110 2010-08-21                  Arsenal  6 days      NaT\n606 2010-08-28                  Arsenal  7 days      NaT\n320 2010-09-11                  Arsenal 14 days      NaT\n711 2010-09-18                  Arsenal  7 days      NaT\n..         ...                      ...     ...      ...\n649 2011-04-26  Wolverhampton Wanderers  3 days      NaT\n665 2011-05-01  Wolverhampton Wanderers  5 days      NaT\n296 2011-05-08  Wolverhampton Wanderers  7 days      NaT\n682 2011-05-14  Wolverhampton Wanderers  6 days      NaT\n316 2011-05-22  Wolverhampton Wanderers  8 days      NaT\n\n[760 rows x 4 columns]",
      "text/html": "<div>\n<style scoped>\n    .dataframe tbody tr th:only-of-type {\n        vertical-align: middle;\n    }\n\n    .dataframe tbody tr th {\n        vertical-align: top;\n    }\n\n    .dataframe thead th {\n        text-align: right;\n    }\n</style>\n<table border=\"1\" class=\"dataframe\">\n  <thead>\n    <tr style=\"text-align: right;\">\n      <th></th>\n      <th>date</th>\n      <th>team_name</th>\n      <th>diff</th>\n      <th>max_diff</th>\n    </tr>\n  </thead>\n  <tbody>\n    <tr>\n      <th>384</th>\n      <td>2010-08-15</td>\n      <td>Arsenal</td>\n      <td>NaT</td>\n      <td>NaT</td>\n    </tr>\n    <tr>\n      <th>110</th>\n      <td>2010-08-21</td>\n      <td>Arsenal</td>\n      <td>6 days</td>\n      <td>NaT</td>\n    </tr>\n    <tr>\n      <th>606</th>\n      <td>2010-08-28</td>\n      <td>Arsenal</td>\n      <td>7 days</td>\n      <td>NaT</td>\n    </tr>\n    <tr>\n      <th>320</th>\n      <td>2010-09-11</td>\n      <td>Arsenal</td>\n      <td>14 days</td>\n      <td>NaT</td>\n    </tr>\n    <tr>\n      <th>711</th>\n      <td>2010-09-18</td>\n      <td>Arsenal</td>\n      <td>7 days</td>\n      <td>NaT</td>\n    </tr>\n    <tr>\n      <th>...</th>\n      <td>...</td>\n      <td>...</td>\n      <td>...</td>\n      <td>...</td>\n    </tr>\n    <tr>\n      <th>649</th>\n      <td>2011-04-26</td>\n      <td>Wolverhampton Wanderers</td>\n      <td>3 days</td>\n      <td>NaT</td>\n    </tr>\n    <tr>\n      <th>665</th>\n      <td>2011-05-01</td>\n      <td>Wolverhampton Wanderers</td>\n      <td>5 days</td>\n      <td>NaT</td>\n    </tr>\n    <tr>\n      <th>296</th>\n      <td>2011-05-08</td>\n      <td>Wolverhampton Wanderers</td>\n      <td>7 days</td>\n      <td>NaT</td>\n    </tr>\n    <tr>\n      <th>682</th>\n      <td>2011-05-14</td>\n      <td>Wolverhampton Wanderers</td>\n      <td>6 days</td>\n      <td>NaT</td>\n    </tr>\n    <tr>\n      <th>316</th>\n      <td>2011-05-22</td>\n      <td>Wolverhampton Wanderers</td>\n      <td>8 days</td>\n      <td>NaT</td>\n    </tr>\n  </tbody>\n</table>\n<p>760 rows × 4 columns</p>\n</div>"
     },
     "execution_count": 65,
     "metadata": {},
     "output_type": "execute_result"
    }
   ],
   "source": [
    "# vv.sort_values(by=['team_name','date'])['date'].diff().head(100)\n",
    "# df['Data_lagged'] = df.groupby(['Group'])['Data'].shift(1)\n",
    "vv['diff'] = vv.sort_values(by='date').groupby(by='team_name')['date'].diff()\n",
    "vv['max_diff'] = vv.groupby(by='team_name')['diff'].max()\n",
    "vv.sort_values(by=['team_name', 'date'])"
   ],
   "metadata": {
    "collapsed": false,
    "pycharm": {
     "name": "#%%\n"
    }
   }
  },
  {
   "cell_type": "code",
   "execution_count": null,
   "outputs": [],
   "source": [
    "highest_gap_england_2010_2011 = # Your code here"
   ],
   "metadata": {
    "collapsed": false,
    "pycharm": {
     "name": "#%%\n"
    }
   }
  },
  {
   "cell_type": "code",
   "execution_count": null,
   "outputs": [],
   "source": [
    "assert(isinstance(highest_gap_england_2010_2011, int))"
   ],
   "metadata": {
    "collapsed": false,
    "pycharm": {
     "name": "#%%\n"
    }
   }
  },
  {
   "cell_type": "markdown",
   "id": "acecc77f",
   "metadata": {},
   "source": [
    "### Warning! Do not change anything in the area below"
   ]
  },
  {
   "cell_type": "code",
   "execution_count": null,
   "id": "94c3b9be",
   "metadata": {},
   "outputs": [],
   "source": [
    "with open('student_answers.txt', 'w') as file:\n",
    "    file.write(f\"{players_180_190}\\n\")\n",
    "    file.write(f\"{players_1980}\\n\")\n",
    "    file.write(f\"{highest_players}\\n\")\n",
    "    file.write(f\"{years_born_players}\\n\")\n",
    "    file.write(f\"{round(adriano_mean, 3)} {round(adriano_std, 3)}\\n\")\n",
    "    file.write(f\"{dow_with_min_players_born}\\n\")\n",
    "    file.write(f\"{league_most_matches}\\n\")\n",
    "    file.write(f\"{max_matches_player}\\n\")\n",
    "    file.write(f\"{';'.join(['%s,%s' % tup for tup in top_correlated_features])};\\n\")\n",
    "    file.write(f\"{neymar_similarities}\\n\")\n",
    "    file.write(f\"{borussia_bundesliga_2008_2009_matches}\\n\")\n",
    "    file.write(f\"{team_most_matches_bundesliga_2008_2009}\\n\")\n",
    "    file.write(f\"{arsenal_won_matches_2015_2016}\\n\")\n",
    "    file.write(f\"{team_highest_winrate_2015_2016}\\n\")\n",
    "    file.write(f\"{highest_gap_england_2010_2011}\\n\")"
   ]
  }
 ],
 "metadata": {
  "kernelspec": {
   "display_name": "Python 3 (ipykernel)",
   "language": "python",
   "name": "python3"
  },
  "language_info": {
   "codemirror_mode": {
    "name": "ipython",
    "version": 3
   },
   "file_extension": ".py",
   "mimetype": "text/x-python",
   "name": "python",
   "nbconvert_exporter": "python",
   "pygments_lexer": "ipython3",
   "version": "3.8.12"
  }
 },
 "nbformat": 4,
 "nbformat_minor": 5
}